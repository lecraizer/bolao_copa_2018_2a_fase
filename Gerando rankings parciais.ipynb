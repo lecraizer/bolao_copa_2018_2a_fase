{
 "cells": [
  {
   "cell_type": "code",
   "execution_count": 1,
   "metadata": {
    "collapsed": true
   },
   "outputs": [],
   "source": [
    "import pandas as pd"
   ]
  },
  {
   "cell_type": "code",
   "execution_count": 16,
   "metadata": {
    "collapsed": true
   },
   "outputs": [],
   "source": [
    "username_to_name = {'bianca_medeiros': 'Bianca Medeiros', 'klayton_barbosa': 'Klayton Barbosa', 'isabel_veloso': 'Isabel Veloso', 'joao_carabetta': 'João Carabetta', 'paula_reis': 'Paula Reis', 'ana_cristina_couto': 'Ana Cristina Couto', 'felipe_araujo': 'Felipe Araújo', 'vinicius_reis': 'Vinicius Reis', 'rodrigo_vianna': 'Rodrigo Vianna', 'leonardo_wortmann': 'Leonardo Wortmann', 'felippe_miranda': 'Felippe Miranda', 'rogerio_sganzerla': 'Rogerio Sganzerla', 'luis_eduardo_craizer': 'Luis Eduardo Craizer', 'daniel_arruda': 'Daniel Arruda', 'william_lima': 'William Lima', 'ana_cardoso': 'Ana Cardoso', 'luiza_tavares': 'Luiza Tavares', 'alifer_sales': 'Alifer Sales', 'fernando_correia': 'Fernando Correia', 'gabriela_porto': 'Gabriela Porto'}"
   ]
  },
  {
   "cell_type": "code",
   "execution_count": 26,
   "metadata": {},
   "outputs": [
    {
     "data": {
      "text/html": [
       "<div>\n",
       "<style>\n",
       "    .dataframe thead tr:only-child th {\n",
       "        text-align: right;\n",
       "    }\n",
       "\n",
       "    .dataframe thead th {\n",
       "        text-align: left;\n",
       "    }\n",
       "\n",
       "    .dataframe tbody tr th {\n",
       "        vertical-align: top;\n",
       "    }\n",
       "</style>\n",
       "<table border=\"1\" class=\"dataframe\">\n",
       "  <thead>\n",
       "    <tr style=\"text-align: right;\">\n",
       "      <th></th>\n",
       "      <th>Participante</th>\n",
       "      <th>Pontuação parcial</th>\n",
       "    </tr>\n",
       "  </thead>\n",
       "  <tbody>\n",
       "    <tr>\n",
       "      <th>1</th>\n",
       "      <td>Klayton Barbosa</td>\n",
       "      <td>21.0</td>\n",
       "    </tr>\n",
       "    <tr>\n",
       "      <th>2</th>\n",
       "      <td>William Lima</td>\n",
       "      <td>21.0</td>\n",
       "    </tr>\n",
       "    <tr>\n",
       "      <th>3</th>\n",
       "      <td>Felipe Araújo</td>\n",
       "      <td>21.0</td>\n",
       "    </tr>\n",
       "    <tr>\n",
       "      <th>4</th>\n",
       "      <td>Daniel Arruda</td>\n",
       "      <td>21.0</td>\n",
       "    </tr>\n",
       "    <tr>\n",
       "      <th>5</th>\n",
       "      <td>Luis Eduardo Craizer</td>\n",
       "      <td>21.0</td>\n",
       "    </tr>\n",
       "  </tbody>\n",
       "</table>\n",
       "</div>"
      ],
      "text/plain": [
       "           Participante  Pontuação parcial\n",
       "1       Klayton Barbosa               21.0\n",
       "2          William Lima               21.0\n",
       "3         Felipe Araújo               21.0\n",
       "4         Daniel Arruda               21.0\n",
       "5  Luis Eduardo Craizer               21.0"
      ]
     },
     "execution_count": 26,
     "metadata": {},
     "output_type": "execute_result"
    }
   ],
   "source": [
    "df = pd.read_csv(\"rankings_parciais/ranking_bolao_8as.csv\")\n",
    "df['Participante'] = df['Username'].apply(lambda x: username_to_name[x])\n",
    "df = df[['Participante', 'Pontuação parcial']]\n",
    "df.sort_values('Pontuação parcial', inplace=True, ascending=False)\n",
    "df = df.reset_index(drop=True)\n",
    "df.index += 1 \n",
    "df.head()"
   ]
  },
  {
   "cell_type": "code",
   "execution_count": null,
   "metadata": {
    "collapsed": true
   },
   "outputs": [],
   "source": []
  }
 ],
 "metadata": {
  "kernelspec": {
   "display_name": "Python 2",
   "language": "python",
   "name": "python2"
  },
  "language_info": {
   "codemirror_mode": {
    "name": "ipython",
    "version": 2
   },
   "file_extension": ".py",
   "mimetype": "text/x-python",
   "name": "python",
   "nbconvert_exporter": "python",
   "pygments_lexer": "ipython2",
   "version": "2.7.6"
  }
 },
 "nbformat": 4,
 "nbformat_minor": 2
}
